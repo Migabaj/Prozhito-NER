{
 "cells": [
  {
   "cell_type": "markdown",
   "metadata": {},
   "source": [
    "# Анализ NER-модели модуля Stanza на примере записок XVIII в.\n",
    "\n",
    "Итак, мы хотим посмотреть, насколько сильно NER-модель споткнется о данные, непохожие на современный русский язык. Сами stanza утверждают, что они используют самый подробный из доступных корпусов и их русский F1-score равен около 92.9, наравне с французским. А выше -- только голландский с F1-score ок. 94.8.\n",
    "\n",
    "Но важно отметить, что в русской модели мы ограничены четырьмя типами именнованных сущностей: PER, LOC, ORG и MISC. У английской модели с 18 типами ИС F1-score всего лишь 88.8, однако если бы там были бы только 4 типа ИС, возможно, показатель был бы гораздо выше.\n",
    "\n",
    "Загружаем все нужное и берем отрывок из записок конца XVIII века. В таких текстах могут найтись разные ловушки для NER. К примеру, очень сильно могут повлиять на вычисления орфография и правила вежливости (\"его превосходительство\" и т.д.)"
   ]
  },
  {
   "cell_type": "code",
   "execution_count": 3,
   "metadata": {},
   "outputs": [],
   "source": [
    "from prozhito_tools import dump\n",
    "import stanza\n",
    "import re"
   ]
  },
  {
   "cell_type": "code",
   "execution_count": 4,
   "metadata": {},
   "outputs": [],
   "source": [
    "dw = dump.Wrapper(csvpath='prozhito-dump/')"
   ]
  },
  {
   "cell_type": "code",
   "execution_count": 5,
   "metadata": {},
   "outputs": [
    {
     "data": {
      "text/plain": [
       "[ #463400 \"Воскресенье. Вчера приехал...\" @2950 [0-0-0] ,\n",
       "  #465445 \"Ночью мы достигли...\" @2268 [0-0-0] ,\n",
       "  #430743 \"Суббота. Москва. Еду...\" @795 [0-12-21] ,\n",
       "  ... ,\n",
       "  #31036 \"a...\" @82 [2959-3-9] ]"
      ]
     },
     "execution_count": 5,
     "metadata": {},
     "output_type": "execute_result"
    }
   ],
   "source": [
    "dw.notes"
   ]
  },
  {
   "cell_type": "code",
   "execution_count": 6,
   "metadata": {},
   "outputs": [],
   "source": [
    "notes = dw.notes[(1782, 1, 1):(1790, 5, 9)]"
   ]
  },
  {
   "cell_type": "code",
   "execution_count": 7,
   "metadata": {},
   "outputs": [
    {
     "data": {
      "text/plain": [
       "[ #310518 \"В Корпусе был...\" @1740 [1782-1-4] ,\n",
       "  #310519 \"За обедом у...\" @1740 [1782-1-6] ,\n",
       "  #310520 \"Нынче, в первый...\" @1740 [1782-1-9] ,\n",
       "  ... ,\n",
       "  #335377 \"Среда. Проспав ночь...\" @1850 [1789-9-10] ]"
      ]
     },
     "execution_count": 7,
     "metadata": {},
     "output_type": "execute_result"
    }
   ],
   "source": [
    "notes"
   ]
  },
  {
   "cell_type": "markdown",
   "metadata": {},
   "source": [
    "Берем первые 20 записок (этот один и тот же автор)."
   ]
  },
  {
   "cell_type": "code",
   "execution_count": 8,
   "metadata": {},
   "outputs": [],
   "source": [
    "notes_text = \"\"\n",
    "for i in range(20):\n",
    "    notes_text += re.sub(\"<.+?/>\", \"\", notes[i].text) + \" \""
   ]
  },
  {
   "cell_type": "code",
   "execution_count": 9,
   "metadata": {},
   "outputs": [
    {
     "data": {
      "text/plain": [
       "'В Корпусе был совет. Я находился в числе тех, которые держали караул во время этого совета. В совещаниях не происходило ничего особеннаго, только что господину Теклю велено сдать бумаги г-ну Фрейтагу,'"
      ]
     },
     "execution_count": 9,
     "metadata": {},
     "output_type": "execute_result"
    }
   ],
   "source": [
    "notes_text[:200]"
   ]
  },
  {
   "cell_type": "markdown",
   "metadata": {},
   "source": [
    "Прогоняем текст через русскую модель от stanza и смотрим:"
   ]
  },
  {
   "cell_type": "code",
   "execution_count": 143,
   "metadata": {
    "scrolled": true
   },
   "outputs": [
    {
     "name": "stderr",
     "output_type": "stream",
     "text": [
      "Downloading https://raw.githubusercontent.com/stanfordnlp/stanza-resources/master/resources_1.1.0.json: 122kB [00:00, 2.38MB/s]                    \n",
      "2020-11-20 02:46:53 INFO: Downloading default packages for language: ru (Russian)...\n",
      "2020-11-20 02:46:56 INFO: File exists: /Users/fixed/stanza_resources/ru/default.zip.\n",
      "2020-11-20 02:47:03 INFO: Finished downloading models and saved to /Users/fixed/stanza_resources.\n"
     ]
    }
   ],
   "source": [
    "stanza.download('ru')"
   ]
  },
  {
   "cell_type": "code",
   "execution_count": 10,
   "metadata": {},
   "outputs": [
    {
     "name": "stderr",
     "output_type": "stream",
     "text": [
      "2020-11-20 03:31:19 INFO: Loading these models for language: ru (Russian):\n",
      "=========================\n",
      "| Processor | Package   |\n",
      "-------------------------\n",
      "| tokenize  | syntagrus |\n",
      "| ner       | wikiner   |\n",
      "=========================\n",
      "\n",
      "2020-11-20 03:31:19 INFO: Use device: cpu\n",
      "2020-11-20 03:31:19 INFO: Loading: tokenize\n",
      "2020-11-20 03:31:19 INFO: Loading: ner\n",
      "2020-11-20 03:31:22 INFO: Done loading processors!\n"
     ]
    },
    {
     "name": "stdout",
     "output_type": "stream",
     "text": [
      "entity\tstart\tend\ttype\n",
      "Корпусе\t2\t9\tLOC\n",
      "Теклю\t160\t165\tPER\n",
      "Фрейтагу\t191\t199\tPER\n",
      "Бецкаго\t375\t382\tPER\n",
      "Пурпуры\t447\t454\tLOC\n",
      "Ф.\t570\t572\tPER\n",
      "Лафон\t950\t955\tPER\n",
      "Звереву\t1304\t1311\tPER\n",
      "граф Р.\t1515\t1522\tPER\n",
      "Мелин\t1582\t1587\tPER\n",
      "Ливонец Белингсгаузен\t1604\t1625\tPER\n",
      "Пурпура\t1810\t1817\tPER\n",
      "Лафоншею\t1998\t2006\tPER\n",
      "Толстая\t2013\t2020\tPER\n",
      "Крузе\t2039\t2044\tPER\n",
      "Беклемишева\t2047\t2058\tPER\n",
      "Деболи\t2089\t2095\tPER\n",
      "Поликарпов\t2097\t2107\tPER\n",
      "Бороздин\t2115\t2123\tPER\n",
      "Окулов\t2125\t2131\tPER\n",
      "Глинской\t2147\t2155\tPER\n",
      "Бутурлин\t2207\t2215\tPER\n",
      "Рибас\t2217\t2222\tPER\n",
      "Третьяковский\t2224\t2237\tPER\n",
      "Беклемишева\t2239\t2250\tPER\n",
      "Бецкаго\t2273\t2280\tPER\n",
      "Рибас\t2294\t2299\tPER\n",
      "Трубников\t2322\t2331\tPER\n",
      "Поутру\t2333\t2339\tPER\n",
      "Рибасши\t2342\t2349\tPER\n",
      "Бригонци\t2354\t2362\tPER\n",
      "Государыня\t2394\t2404\tPER\n",
      "Рибасша\t2449\t2456\tPER\n",
      "Государыни\t2486\t2496\tPER\n",
      "Бецкий\t2570\t2576\tPER\n",
      "Государыня\t2680\t2690\tPER\n",
      "Вяземскому\t2751\t2761\tPER\n",
      "Рибасши\t2989\t2996\tPER\n",
      "Государыня\t2998\t3008\tPER\n",
      "Царскосельском дворце\t3115\t3136\tLOC\n",
      "Государыню\t3168\t3178\tPER\n",
      "Бецкий\t3180\t3186\tPER\n",
      "Кадетском Корпусе\t3255\t3272\tLOC\n",
      "Смольном\t3276\t3284\tLOC\n",
      "Академии\t3288\t3296\tLOC\n",
      "Канцелярии строений\t3300\t3319\tLOC\n",
      "Воспитательном Доме\t3362\t3381\tLOC\n",
      "Рибасшу\t3410\t3417\tPER\n",
      "Софью\t3476\t3481\tPER\n",
      "Аннушке\t3485\t3492\tPER\n",
      "Бецкий\t3559\t3565\tPER\n",
      "Корпус\t3642\t3648\tLOC\n",
      "Давиа\t3687\t3692\tPER\n",
      "Рибас\t3763\t3768\tPER\n",
      "Обер-шталмейстер\t3770\t3786\tPER\n",
      "Бригонци\t4160\t4168\tPER\n",
      "Бибиков\t4180\t4187\tPER\n",
      "Брандорф\t4207\t4215\tPER\n",
      "Комачино\t4217\t4225\tPER\n",
      "Брошар\t4227\t4233\tPER\n",
      "Рибас\t4356\t4361\tPER\n",
      "Бутринг\t4396\t4403\tPER\n",
      "Чернышева\t4431\t4440\tPER\n",
      "Робриссони\t4459\t4469\tPER\n",
      "Манкарелли\t4471\t4481\tPER\n",
      "Талани\t4484\t4490\tPER\n",
      "Италианских слов\t4544\t4560\tMISC\n",
      "Скванчи\t4624\t4631\tPER\n",
      "Вукасовичу\t4692\t4702\tPER\n",
      "Скванчи\t4719\t4726\tPER\n",
      "Г-н Ес.\t5180\t5187\tPER\n",
      "Государыня\t5203\t5213\tPER\n",
      "Бобриковскую землю\t5237\t5255\tLOC\n",
      "Ладыженскому\t5261\t5273\tPER\n",
      "Г-н Синс.\t5349\t5358\tPER\n",
      "Борисова\t5524\t5532\tPER\n",
      "Болотниковым\t5535\t5547\tPER\n",
      "Палициным\t5563\t5572\tPER\n",
      "К. Я\t5690\t5694\tPER\n",
      "Давиа\t5764\t5769\tPER\n",
      "Рибаса\t5793\t5799\tLOC\n",
      "Рибас\t5801\t5806\tPER\n",
      "Смольный монастырь\t5883\t5901\tLOC\n",
      "Трех Женщин\t5917\t5928\tLOC\n",
      "Бецкаго\t5995\t6002\tPER\n",
      "Зверева\t6086\t6093\tPER\n",
      "Государыни\t6106\t6116\tPER\n",
      "Лафон\t6166\t6171\tPER\n",
      "Пурпуры\t6228\t6235\tPER\n",
      "Смольнянки\t6241\t6251\tPER\n",
      "Кадетском Корпусе\t6309\t6326\tLOC\n",
      "Астариты\t6392\t6400\tPER\n",
      "Урсини\t6423\t6429\tPER\n",
      "Олсуфьев\t6499\t6507\tPER\n",
      "Смольном\t6778\t6786\tLOC\n",
      "Рибас\t6823\t6828\tPER\n",
      "Бецкаго\t6872\t6879\tPER\n",
      "Апухтина\t6891\t6899\tPER\n",
      "Г-жа Толстая\t6953\t6965\tPER\n",
      "Москве\t7030\t7036\tLOC\n",
      "Белыя Смольнянки\t7566\t7582\tLOC\n",
      "Бецкаго\t7631\t7638\tMISC\n",
      "Свечин\t7659\t7665\tPER\n",
      "Болотников\t7667\t7677\tPER\n",
      "Цызырев\t7679\t7686\tPER\n",
      "Ушаков\t7689\t7695\tPER\n",
      "Апухтина\t7766\t7774\tPER\n",
      "Вяземскаго\t7998\t8008\tPER\n",
      "Голицына\t8109\t8117\tPER\n",
      "Бецкому\t8171\t8178\tPER\n",
      "Потемкина\t8247\t8256\tPER\n",
      "Ланскаго\t8324\t8332\tPER\n",
      "Сиреса\t8394\t8400\tPER\n",
      "Сirеs\t8402\t8407\tPER\n",
      "Ея Величества\t8520\t8533\tPER\n",
      "Катерину Васильевну Скавронскую\t8610\t8641\tPER\n",
      "Бецкому\t8690\t8697\tPER\n",
      "Смольнянки\t8751\t8761\tPER\n",
      "России\t8837\t8843\tLOC\n",
      "Рибасша\t8856\t8863\tPER\n",
      "польской\t9111\t9119\tMISC\n",
      "Преображенском полку\t9161\t9181\tORG\n",
      "Апраксин\t9201\t9209\tPER\n",
      "Т.\t9458\t9460\tPER\n",
      "Мамзель Талызина\t9666\t9682\tPER\n",
      "Т. Э. П. У.\t9734\t9745\tPER\n",
      "А. А.\t9748\t9753\tPER\n",
      "Государыню\t9805\t9815\tPER\n",
      "Б.\t9907\t9909\tPER\n",
      "Паисильоном\t9965\t9976\tPER\n",
      "Б.\t10029\t10031\tPER\n",
      "Рибас\t10053\t10058\tPER\n",
      "Рибас\t10136\t10141\tPER\n",
      "Вильке\t10226\t10232\tPER\n",
      "Браницкаго\t10260\t10270\tPER\n",
      "Рибас\t10286\t10291\tPER\n",
      "Государыня\t10455\t10465\tPER\n",
      "Рибас\t10519\t10524\tPER\n",
      "Б.\t10568\t10570\tPER\n",
      "Скоропадскаго\t10599\t10612\tPER\n",
      "З. и Б.\t10668\t10675\tPER\n",
      "Смольнянкам\t10750\t10761\tLOC\n",
      "Три Фермера\t10848\t10859\tMISC\n",
      "Девица Каменская\t10904\t10920\tPER\n",
      "Пятницу\t11046\t11053\tMISC\n",
      "П. Г. Т. Меня\t11070\t11083\tPER\n",
      "Хераскову\t11108\t11117\tPER\n",
      "Рибас\t11152\t11157\tPER\n",
      "Государыня\t11174\t11184\tPER\n",
      "Бецкаго\t11198\t11205\tPER\n",
      "Хераскова\t11333\t11342\tPER\n",
      "Рибас\t11367\t11372\tPER\n",
      "Роб.\t11419\t11423\tMISC\n",
      "Рибас\t11522\t11527\tPER\n",
      "Большой праздник\t11615\t11631\tMISC\n",
      "Бецкаго\t11644\t11651\tLOC\n",
      "Мятлев\t11680\t11686\tPER\n",
      "Репнина\t11696\t11703\tPER\n",
      "Ржевский\t11715\t11723\tPER\n",
      "Рубановская\t11740\t11751\tPER\n",
      "Шувалов\t11753\t11760\tPER\n",
      "Талызин\t11854\t11861\tPER\n",
      "Апухтину\t11898\t11906\tLOC\n",
      "Рибас\t11932\t11937\tPER\n",
      "Государыня\t11968\t11978\tPER\n",
      "Бауеру\t12125\t12131\tPER\n",
      "Г-н Мятлев\t12133\t12143\tPER\n",
      "Цызырев\t12250\t12257\tPER\n",
      "Бецкий\t12285\t12291\tPER\n",
      "России\t12489\t12495\tLOC\n",
      "Талызин\t12511\t12518\tPER\n",
      "Болотников\t12558\t12568\tPER\n",
      "Дуров\t12570\t12575\tPER\n",
      "Раевских\t12582\t12590\tPER\n",
      "Апухтину\t12609\t12617\tPER\n",
      "Борисов\t12619\t12626\tPER\n",
      "Свечин\t12648\t12654\tPER\n",
      "Арсеньев\t12664\t12672\tPER\n",
      "Державину\t12675\t12684\tPER\n",
      "Стибилев\t12686\t12694\tPER\n",
      "Третьяковскому\t12697\t12711\tPER\n",
      "Неклюдов\t12713\t12721\tPER\n",
      "Корсаков\t12724\t12732\tPER\n",
      "Неклюдову\t12735\t12744\tPER\n",
      "Чернушка\t12746\t12754\tPER\n",
      "Дашаков\t12755\t12762\tPER\n",
      "Корпуса\t12841\t12848\tORG\n",
      "Ржевский\t12921\t12929\tPER\n",
      "Бецкаго\t12969\t12976\tPER\n",
      "Рубановскою\t12987\t12998\tPER\n",
      "Драхенфельс\t13000\t13011\tPER\n",
      "Рибасу\t13023\t13029\tPER\n",
      "Бецкаго\t13063\t13070\tLOC\n",
      "Рибасом\t13094\t13101\tPER\n",
      "Поутру Рибас\t13222\t13234\tPER\n",
      "Реада\t13251\t13256\tPER\n",
      "Корпусе\t13358\t13365\tLOC\n",
      "Реад\t13370\t13374\tPER\n",
      "Каховский\t13491\t13500\tPER\n",
      "Бог\t13519\t13522\tPER\n",
      "Зверевой\t13633\t13641\tPER\n",
      "Цызырева\t13655\t13663\tPER\n",
      "Олсуфьеву\t13675\t13684\tPER\n",
      "Закревским\t13723\t13733\tPER\n",
      "Неклюдова\t13740\t13749\tPER\n",
      "Рибасша\t13753\t13760\tPER\n",
      "Дон Жуан\t13805\t13813\tPER\n",
      "Рибас\t13920\t13925\tPER\n",
      "Рибасша\t13988\t13995\tPER\n",
      "Фромандье\t14057\t14066\tLOC\n",
      "Воскресенье\t14087\t14098\tMISC\n",
      "Эрмитаже\t14209\t14217\tLOC\n",
      "Рибаса\t14239\t14245\tPER\n",
      "Смольном\t14256\t14264\tLOC\n",
      "Лафонша\t14334\t14341\tPER\n",
      "Рибас\t14343\t14348\tPER\n",
      "Корпус офицеров\t14524\t14539\tORG\n",
      "Корпусе\t14656\t14663\tLOC\n",
      "Лафонша\t14679\t14686\tPER\n",
      "Вотрен\t14703\t14709\tPER\n",
      "Бецкаго\t14804\t14811\tLOC\n",
      "Вяземская\t14830\t14839\tPER\n",
      "Таверо\t14846\t14852\tPER\n",
      "Рязанова\t14861\t14869\tPER\n",
      "Парижских модах\t14906\t14921\tMISC\n",
      "Шуваловою\t14944\t14953\tPER\n",
      "Арсеньев\t14968\t14976\tPER\n",
      "Зверевой\t14986\t14994\tPER\n",
      "Фромандъе\t14997\t15006\tPER\n",
      "Бецкаго\t15036\t15043\tPER\n",
      "Пятницу\t15099\t15106\tMISC\n",
      "Бецкаго\t15198\t15205\tPER\n",
      "Рибаса\t15318\t15324\tPER\n",
      "Корпус\t15656\t15662\tLOC\n",
      "Рибас\t15684\t15689\tPER\n",
      "Зверева\t15757\t15764\tPER\n",
      "Эрмитаж\t15775\t15782\tLOC\n",
      "Смольном\t15841\t15849\tLOC\n",
      "Зверевой\t15876\t15884\tPER\n",
      "Пальменбах\t15966\t15976\tPER\n",
      "Поутру\t15986\t15992\tPER\n",
      "Катенину\t16048\t16056\tPER\n",
      "Смольном\t16070\t16078\tLOC\n",
      "Цитиной\t16164\t16171\tPER\n",
      "Буксгевден\t16258\t16268\tPER\n",
      "Алексееву\t16278\t16287\tPER\n",
      "Бецкий\t16411\t16417\tPER\n",
      "Рибаса\t16434\t16440\tPER\n",
      "Талызиной\t16496\t16505\tPER\n",
      "Рибас\t16553\t16558\tPER\n",
      "Бецкаго\t16589\t16596\tLOC\n",
      "Вераку\t16680\t16686\tPER\n",
      "Кадетам 1\t16696\t16705\tMISC\n",
      "Зверевой\t16831\t16839\tPER\n",
      "Смольном\t16843\t16851\tLOC\n",
      "Ратевой\t16879\t16886\tPER\n",
      "Бобринскою\t16899\t16909\tPER\n",
      "Талызиной\t16956\t16965\tPER\n",
      "Поутру\t16967\t16973\tPER\n",
      "Бецкаго\t16992\t16999\tPER\n",
      "Рибас\t17001\t17006\tPER\n",
      "Корпуса\t17049\t17056\tLOC\n",
      "Апухтинский\t17088\t17099\tLOC\n",
      "Бецкий\t17196\t17202\tPER\n",
      "Государыни\t17214\t17224\tPER\n",
      "Рибас\t17280\t17285\tPER\n",
      "Рибаса\t17347\t17353\tPER\n",
      "Тамара\t17374\t17380\tPER\n",
      "Бецкаго\t17393\t17400\tPER\n",
      "Рибас\t17415\t17420\tPER\n",
      "Государыня\t17483\t17493\tPER\n",
      "Бецкаго\t17508\t17515\tPER\n",
      "Государыни\t17531\t17541\tPER\n",
      "Талызиной\t17551\t17560\tPER\n",
      "Фромандье\t17615\t17624\tPER\n",
      "Апухтина\t17637\t17645\tPER\n",
      "Севильскаго Цирюльника\t17721\t17743\tPER\n",
      "Играно\t17745\t17751\tMISC\n",
      "Рибас\t17780\t17785\tPER\n",
      "Итальянская опера Lа finta amante\t17889\t17922\tMISC\n",
      "Гермейер\t17940\t17948\tPER\n"
     ]
    }
   ],
   "source": [
    "ner = stanza.Pipeline(lang='ru', processors='tokenize,ner')\n",
    "doc = ner(notes_text)\n",
    "stanza_data = []\n",
    "print(\"entity\\tstart\\tend\\ttype\")\n",
    "for sent in doc.sentences:\n",
    "    for ent in sent.ents:\n",
    "        stanza_data.append((ent.text,\n",
    "                            (ent.start_char,\n",
    "                            ent.end_char),\n",
    "                            ent.type))\n",
    "        print(f\"{ent.text}\\t{ent.start_char}\\t{ent.end_char}\\t{ent.type}\")"
   ]
  },
  {
   "cell_type": "code",
   "execution_count": 11,
   "metadata": {},
   "outputs": [
    {
     "data": {
      "text/plain": [
       "[('Корпусе', (2, 9), 'LOC'), ('Теклю', (160, 165), 'PER')]"
      ]
     },
     "execution_count": 11,
     "metadata": {},
     "output_type": "execute_result"
    }
   ],
   "source": [
    "stanza_data[:2]"
   ]
  },
  {
   "cell_type": "markdown",
   "metadata": {},
   "source": [
    "На первый взгляд неплохо, можно найти много иностранных фамилий, которые stanza определила как тип PER.\n",
    "\n",
    "Но чтобы проверить, насколько она точна и полна, нужно достать данные размеченные вручную. Тот же текст, который я получил из корпуса, я разметил вручную. Достанем данные из файла:"
   ]
  },
  {
   "cell_type": "code",
   "execution_count": 33,
   "metadata": {},
   "outputs": [],
   "source": [
    "with open(\"notes_manually.tsv\", encoding=\"utf-8\") as f:\n",
    "    manually_data = []\n",
    "    for line in f.read().split(\"\\n\")[:-1]:\n",
    "        line_tuple = (\n",
    "            line.split(\"\\t\")[0],\n",
    "            (int(line.split(\"\\t\")[1]),\n",
    "            int(line.split(\"\\t\")[2])),\n",
    "            line.split(\"\\t\")[3]\n",
    "        )\n",
    "        manually_data.append(line_tuple)"
   ]
  },
  {
   "cell_type": "markdown",
   "metadata": {},
   "source": [
    "Вот так выглядят эти данные, совершенно так же, как и stanza_data."
   ]
  },
  {
   "cell_type": "code",
   "execution_count": 66,
   "metadata": {
    "scrolled": false
   },
   "outputs": [
    {
     "data": {
      "text/plain": [
       "[('его превосходительства', (2183, 2205), 'PER'),\n",
       " ('Царскосельском дворце', (3115, 3136), 'LOC')]"
      ]
     },
     "execution_count": 66,
     "metadata": {},
     "output_type": "execute_result"
    }
   ],
   "source": [
    "manually_data[:2]"
   ]
  },
  {
   "cell_type": "markdown",
   "metadata": {},
   "source": [
    "Теперь наконец посмотрим, какой на самом деле у модели F1-score:"
   ]
  },
  {
   "cell_type": "code",
   "execution_count": 106,
   "metadata": {},
   "outputs": [],
   "source": [
    "from copy import copy"
   ]
  },
  {
   "cell_type": "code",
   "execution_count": 108,
   "metadata": {},
   "outputs": [],
   "source": [
    "def F1_score(data):\n",
    "    true_positive_count = 0\n",
    "    false_values = copy(manually_data)\n",
    "    for ent_s in data:\n",
    "        for ent_m in manually_data:\n",
    "            if ent_s[1] == ent_m[1] or (ent_s[1][0] >= ent_m[1][0] and ent_s[1][1] <= ent_m[1][1]):\n",
    "                if ent_s[2] in ent_m[2]:\n",
    "                    true_positive_count += 1\n",
    "                    if ent_m in false_values:\n",
    "                        false_values.remove(ent_m)\n",
    "                    break\n",
    "    precision = true_positive_count / len(data)\n",
    "    recall = true_positive_count / len(manually_data)\n",
    "    return (2 / (recall**(-1) + precision**(-1)), false_values)\n",
    "    # фунцкия возвращает не только F1-score, но и ошибки модели."
   ]
  },
  {
   "cell_type": "markdown",
   "metadata": {},
   "source": [
    "В итоге мы получаем довольно неплохой F1-score, не сильно хуже, чем тот, который заявляет stanza:"
   ]
  },
  {
   "cell_type": "code",
   "execution_count": 109,
   "metadata": {
    "scrolled": true
   },
   "outputs": [
    {
     "data": {
      "text/plain": [
       "0.9049295774647886"
      ]
     },
     "execution_count": 109,
     "metadata": {},
     "output_type": "execute_result"
    }
   ],
   "source": [
    "F1_score(stanza_data)[0]"
   ]
  },
  {
   "cell_type": "markdown",
   "metadata": {},
   "source": [
    "Вот что stanza не учла или учла не так:"
   ]
  },
  {
   "cell_type": "code",
   "execution_count": 110,
   "metadata": {
    "scrolled": true
   },
   "outputs": [
    {
     "data": {
      "text/plain": [
       "[('его превосходительства', (2183, 2205), 'PER'),\n",
       " ('дортуаре четвертой роты', (5092, 5115), 'LOC'),\n",
       " ('«Трех Женщин»', (5916, 5929), 'MISC'),\n",
       " ('г-на Пурпуры', (442, 454), 'PER'),\n",
       " ('девицею 3.', (575, 585), 'PER'),\n",
       " ('монастырю', (1341, 1350), \"('LOC', 'ORG')\"),\n",
       " ('монастыря', (1986, 1995), \"('LOC', 'ORG')\"),\n",
       " ('дворец', (3604, 3610), 'LOC'),\n",
       " ('Италианских', (4544, 4555), 'MISC'),\n",
       " ('К.', (5690, 5692), 'PER'),\n",
       " ('Рибаса', (5793, 5799), 'PER'),\n",
       " ('Бецкаго', (7631, 7638), 'PER'),\n",
       " ('монастыря', (8775, 8784), 'LOC'),\n",
       " ('Русских', (8896, 8903), 'MISC'),\n",
       " ('С.', (9453, 9455), 'PER'),\n",
       " ('Т.', (9734, 9736), 'PER'),\n",
       " ('Э.', (9737, 9739), 'PER'),\n",
       " ('П.', (9740, 9742), 'PER'),\n",
       " ('У.', (9743, 9745), 'PER'),\n",
       " ('3', (9912, 9913), 'PER'),\n",
       " ('Государыня', (9915, 9925), 'PER'),\n",
       " ('3.', (10510, 10512), 'PER'),\n",
       " ('З.', (10668, 10670), 'PER'),\n",
       " ('Б.', (10673, 10675), 'PER'),\n",
       " ('монастырь', (10730, 10739), 'LOC'),\n",
       " ('девицу П. Г. Т.', (11063, 11078), 'PER'),\n",
       " ('графе Роб.', (11413, 11423), 'PER'),\n",
       " ('гр . Р.', (11545, 11551), 'PER'),\n",
       " ('Бецкаго', (11644, 11651), 'PER'),\n",
       " ('Апухтину', (11898, 11906), 'PER'),\n",
       " ('Корпуса', (12841, 12848), 'LOC'),\n",
       " ('Бецкаго', (13063, 13070), 'PER'),\n",
       " ('Рибас', (13229, 13234), 'PER'),\n",
       " ('Государыня', (13598, 13608), 'PER'),\n",
       " ('Соловой', (13703, 13710), 'PER'),\n",
       " ('балет под названием Дон Жуан', (13785, 13813), 'MISC'),\n",
       " ('г. Фромандье', (14054, 14066), 'PER'),\n",
       " ('Корпусе', (14469, 14476), 'LOC'),\n",
       " ('Корпус', (14524, 14530), 'PER'),\n",
       " ('Русскаго', (14540, 14548), 'MISC'),\n",
       " ('Бецкаго', (14804, 14811), 'PER'),\n",
       " ('Парижских', (14906, 14915), 'MISC'),\n",
       " ('Бецкаго', (16589, 16596), 'PER'),\n",
       " ('клубе', (17648, 17653), 'LOC'),\n",
       " ('Севильскаго Цирюльника', (17721, 17743), 'MISC')]"
      ]
     },
     "execution_count": 110,
     "metadata": {},
     "output_type": "execute_result"
    }
   ],
   "source": [
    "F1_score(stanza_data)[1]"
   ]
  },
  {
   "cell_type": "markdown",
   "metadata": {},
   "source": [
    "Во-первых, stanza отказывалась учитывать слово \"монастырь\", хотя каждый раз в тексте имелся в виду один и тот же монастырь. Вероятно, большая проблема в том, что stanza смотрит только на предложения и не учитывает весь текст (это же подтверждается тем, что бедный Бецкий несколько раз оказался местом, хотя вроде бы угадывался и как человек).\n",
    "\n",
    "Во-вторых, у stanzы плохо с произведениями искусства: не опознаны Дон Жуан и Севильский Цирюльник, что скорее всего связано с тем, что конкретные названия разных произведений встречаются в корпусе редко и их труднее опознать.\n",
    "\n",
    "В-третьих, вполне вероятно, что моя разметка могла бы быть гораздо корректнее, но меня отчасти успокаивает, что F1-score довольно высокий.\n",
    "\n",
    "В-четвертых, интересно было бы посмотреть на то, как сильно влияют на модель строчные буквы. Посмотрим, что будет, если все символы привести к нижнему регистру:"
   ]
  },
  {
   "cell_type": "code",
   "execution_count": 103,
   "metadata": {
    "scrolled": true
   },
   "outputs": [
    {
     "name": "stdout",
     "output_type": "stream",
     "text": [
      "entity\tstart\tend\ttype\n",
      "вяземскому\t2751\t2761\tMISC\n",
      "италианских\t4544\t4555\tMISC\n",
      "русских\t8896\t8903\tMISC\n",
      "польской\t9111\t9119\tMISC\n",
      "русскаго\t14540\t14548\tMISC\n"
     ]
    }
   ],
   "source": [
    "doc = ner(notes_text.lower())\n",
    "stanza_data_lower = []\n",
    "print(\"entity\\tstart\\tend\\ttype\")\n",
    "for sent in doc.sentences:\n",
    "    for ent in sent.ents:\n",
    "        stanza_data_lower.append((ent.text,\n",
    "                            (ent.start_char,\n",
    "                            ent.end_char),\n",
    "                            ent.type))\n",
    "        print(f\"{ent.text}\\t{ent.start_char}\\t{ent.end_char}\\t{ent.type}\")"
   ]
  },
  {
   "cell_type": "markdown",
   "metadata": {},
   "source": [
    "Будет очень-очень плохо, что на самом деле тоже большая проблема. Если мы хотим для корпуса сохранить орфографию человека, который пишет в дневнике только с прописной, то stanza легко споткнется и об это."
   ]
  },
  {
   "cell_type": "code",
   "execution_count": 105,
   "metadata": {},
   "outputs": [
    {
     "data": {
      "text/plain": [
       "0.020547945205479454"
      ]
     },
     "execution_count": 105,
     "metadata": {},
     "output_type": "execute_result"
    }
   ],
   "source": [
    "F1_score(stanza_data_lower)[0]"
   ]
  },
  {
   "cell_type": "markdown",
   "metadata": {},
   "source": [
    "*Миша Сонькин*"
   ]
  }
 ],
 "metadata": {
  "kernelspec": {
   "display_name": "Python 3",
   "language": "python",
   "name": "python3"
  },
  "language_info": {
   "codemirror_mode": {
    "name": "ipython",
    "version": 3
   },
   "file_extension": ".py",
   "mimetype": "text/x-python",
   "name": "python",
   "nbconvert_exporter": "python",
   "pygments_lexer": "ipython3",
   "version": "3.7.6"
  }
 },
 "nbformat": 4,
 "nbformat_minor": 4
}
